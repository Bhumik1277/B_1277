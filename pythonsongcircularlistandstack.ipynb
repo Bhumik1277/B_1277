{
  "nbformat": 4,
  "nbformat_minor": 0,
  "metadata": {
    "colab": {
      "provenance": [],
      "authorship_tag": "ABX9TyPZ1pygMgS1u7IL4YoS3ZTT",
      "include_colab_link": true
    },
    "kernelspec": {
      "name": "python3",
      "display_name": "Python 3"
    },
    "language_info": {
      "name": "python"
    }
  },
  "cells": [
    {
      "cell_type": "markdown",
      "metadata": {
        "id": "view-in-github",
        "colab_type": "text"
      },
      "source": [
        "<a href=\"https://colab.research.google.com/github/Bhumik1277/B_1277/blob/main/pythonsongcircularlistandstack.ipynb\" target=\"_parent\"><img src=\"https://colab.research.google.com/assets/colab-badge.svg\" alt=\"Open In Colab\"/></a>"
      ]
    },
    {
      "cell_type": "code",
      "execution_count": 3,
      "metadata": {
        "colab": {
          "base_uri": "https://localhost:8080/"
        },
        "id": "K68CJBgHwI1J",
        "outputId": "4aedb6bc-9df9-47c2-b868-a0c16075f675"
      },
      "outputs": [
        {
          "output_type": "stream",
          "name": "stdout",
          "text": [
            "Playing: Song A\n",
            "Playing: Song B\n",
            "Playing: Song C\n",
            "Playing: Song A\n",
            "Playing: Song B\n"
          ]
        }
      ],
      "source": [
        "class SongNode:\n",
        "    def __init__(self, song):\n",
        "        self.song = song\n",
        "        self.next = None\n",
        "\n",
        "class MusicPlaylist:\n",
        "    def __init__(self):\n",
        "        self.head = None\n",
        "\n",
        "    def add_song(self, song):\n",
        "        new_node = SongNode(song)\n",
        "        if self.head is None:\n",
        "            self.head = new_node\n",
        "            self.head.next = self.head\n",
        "        else:\n",
        "\n",
        "            temp = self.head\n",
        "            while temp.next != self.head:\n",
        "                temp = temp.next\n",
        "            temp.next = new_node\n",
        "            new_node.next = self.head\n",
        "\n",
        "    def play_songs(self, num_songs):\n",
        "        if self.head is None:\n",
        "            print(\"Playlist is empty\")\n",
        "            return\n",
        "        temp = self.head\n",
        "        for _ in range(num_songs):\n",
        "            print(f\"Playing: {temp.song}\")\n",
        "            temp = temp.next\n",
        "\n",
        "\n",
        "playlist = MusicPlaylist()\n",
        "playlist.add_song(\"Song A\")\n",
        "playlist.add_song(\"Song B\")\n",
        "playlist.add_song(\"Song C\")\n",
        "\n",
        "playlist.play_songs(5)\n"
      ]
    },
    {
      "cell_type": "code",
      "source": [
        "class TextEditor:\n",
        "    def __init__(self):\n",
        "        self.text = \"\"\n",
        "        self.undo_stack = []\n",
        "        self.redo_stack = []\n",
        "\n",
        "    def type(self, new_text):\n",
        "        self.undo_stack.append(self.text)\n",
        "\n",
        "        self.text = new_text\n",
        "        self.redo_stack.clear()\n",
        "\n",
        "    def undo(self):\n",
        "        if self.undo_stack:\n",
        "            self.redo_stack.append(self.text)\n",
        "            self.text = self.undo_stack.pop()\n",
        "\n",
        "    def redo(self):\n",
        "        if self.redo_stack:\n",
        "            self.undo_stack.append(self.text)\n",
        "            self.text = self.redo_stack.pop()\n",
        "\n",
        "    def get_text(self):\n",
        "        return self.text\n",
        "\n",
        "\n",
        "editor = TextEditor()\n",
        "editor.type(\"Hello\")\n",
        "editor.type(\"Hello, World!\")\n",
        "editor.undo()\n",
        "editor.redo()\n",
        "print(editor.get_text())"
      ],
      "metadata": {
        "colab": {
          "base_uri": "https://localhost:8080/"
        },
        "id": "9cndOyQE1TS9",
        "outputId": "22ee0ee3-04c0-4178-eacd-bfd7a1be8adc"
      },
      "execution_count": 5,
      "outputs": [
        {
          "output_type": "stream",
          "name": "stdout",
          "text": [
            "Hello, World!\n"
          ]
        }
      ]
    },
    {
      "cell_type": "code",
      "source": [],
      "metadata": {
        "id": "aPMWi0NT3Kbl"
      },
      "execution_count": null,
      "outputs": []
    }
  ]
}