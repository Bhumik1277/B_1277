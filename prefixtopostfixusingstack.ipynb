{
  "nbformat": 4,
  "nbformat_minor": 0,
  "metadata": {
    "colab": {
      "provenance": [],
      "authorship_tag": "ABX9TyMJ0t0uMx74wl3CqzrlcMIo",
      "include_colab_link": true
    },
    "kernelspec": {
      "name": "python3",
      "display_name": "Python 3"
    },
    "language_info": {
      "name": "python"
    }
  },
  "cells": [
    {
      "cell_type": "markdown",
      "metadata": {
        "id": "view-in-github",
        "colab_type": "text"
      },
      "source": [
        "<a href=\"https://colab.research.google.com/github/Bhumik1277/B_1277/blob/main/prefixtopostfixusingstack.ipynb\" target=\"_parent\"><img src=\"https://colab.research.google.com/assets/colab-badge.svg\" alt=\"Open In Colab\"/></a>"
      ]
    },
    {
      "cell_type": "code",
      "execution_count": 2,
      "metadata": {
        "colab": {
          "base_uri": "https://localhost:8080/"
        },
        "id": "_jBlkgDr9Vmv",
        "outputId": "6b94da40-280b-4b23-8792-5c8116dafb32"
      },
      "outputs": [
        {
          "output_type": "stream",
          "name": "stdout",
          "text": [
            "Postfix Expression: ABC/DE+*+F-\n"
          ]
        }
      ],
      "source": [
        "def precedence(op):\n",
        "    if op in ('+', '-'):\n",
        "        return 1\n",
        "    if op in ('*', '/'):\n",
        "        return 2\n",
        "    if op in ('^'):\n",
        "        return 3\n",
        "    return 0\n",
        "\n",
        "def infix_to_postfix(expression):\n",
        "    output = []\n",
        "    stack = []\n",
        "    for char in expression:\n",
        "        if char.isalnum():\n",
        "            output.append(char)\n",
        "        elif char == '(':\n",
        "            stack.append(char)\n",
        "        elif char == ')':\n",
        "            while stack and stack[-1] != '(':\n",
        "                output.append(stack.pop())\n",
        "            stack.pop()\n",
        "        else:\n",
        "            while stack and precedence(stack[-1]) >= precedence(char):\n",
        "                output.append(stack.pop())\n",
        "            stack.append(char)\n",
        "    while stack:\n",
        "        output.append(stack.pop())\n",
        "    return ''.join(output)\n",
        "\n",
        "expression = \"(A+B/C*(D+E)-F)\"\n",
        "postfix = infix_to_postfix(expression)\n",
        "print(\"Postfix Expression:\", postfix)\n",
        "\n",
        ""
      ]
    },
    {
      "cell_type": "code",
      "source": [],
      "metadata": {
        "id": "g9oMSGOJ-0DW"
      },
      "execution_count": null,
      "outputs": []
    }
  ]
}