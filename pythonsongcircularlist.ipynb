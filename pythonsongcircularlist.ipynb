{
  "nbformat": 4,
  "nbformat_minor": 0,
  "metadata": {
    "colab": {
      "provenance": [],
      "authorship_tag": "ABX9TyNb+4EARpkhMFBmzJs5AaSp",
      "include_colab_link": true
    },
    "kernelspec": {
      "name": "python3",
      "display_name": "Python 3"
    },
    "language_info": {
      "name": "python"
    }
  },
  "cells": [
    {
      "cell_type": "markdown",
      "metadata": {
        "id": "view-in-github",
        "colab_type": "text"
      },
      "source": [
        "<a href=\"https://colab.research.google.com/github/Bhumik1277/B_1277/blob/main/pythonsongcircularlist.ipynb\" target=\"_parent\"><img src=\"https://colab.research.google.com/assets/colab-badge.svg\" alt=\"Open In Colab\"/></a>"
      ]
    },
    {
      "cell_type": "code",
      "execution_count": 3,
      "metadata": {
        "colab": {
          "base_uri": "https://localhost:8080/"
        },
        "id": "K68CJBgHwI1J",
        "outputId": "4aedb6bc-9df9-47c2-b868-a0c16075f675"
      },
      "outputs": [
        {
          "output_type": "stream",
          "name": "stdout",
          "text": [
            "Playing: Song A\n",
            "Playing: Song B\n",
            "Playing: Song C\n",
            "Playing: Song A\n",
            "Playing: Song B\n"
          ]
        }
      ],
      "source": [
        "class SongNode:\n",
        "    def __init__(self, song):\n",
        "        self.song = song\n",
        "        self.next = None\n",
        "\n",
        "class MusicPlaylist:\n",
        "    def __init__(self):\n",
        "        self.head = None\n",
        "\n",
        "    def add_song(self, song):\n",
        "        new_node = SongNode(song)\n",
        "        if self.head is None:\n",
        "            self.head = new_node\n",
        "            self.head.next = self.head\n",
        "        else:\n",
        "\n",
        "            temp = self.head\n",
        "            while temp.next != self.head:\n",
        "                temp = temp.next\n",
        "            temp.next = new_node\n",
        "            new_node.next = self.head\n",
        "\n",
        "    def play_songs(self, num_songs):\n",
        "        if self.head is None:\n",
        "            print(\"Playlist is empty\")\n",
        "            return\n",
        "        temp = self.head\n",
        "        for _ in range(num_songs):\n",
        "            print(f\"Playing: {temp.song}\")\n",
        "            temp = temp.next\n",
        "\n",
        "\n",
        "playlist = MusicPlaylist()\n",
        "playlist.add_song(\"Song A\")\n",
        "playlist.add_song(\"Song B\")\n",
        "playlist.add_song(\"Song C\")\n",
        "\n",
        "playlist.play_songs(5)\n"
      ]
    },
    {
      "cell_type": "code",
      "source": [],
      "metadata": {
        "id": "9cndOyQE1TS9"
      },
      "execution_count": null,
      "outputs": []
    }
  ]
}