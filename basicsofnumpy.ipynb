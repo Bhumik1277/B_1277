{
  "nbformat": 4,
  "nbformat_minor": 0,
  "metadata": {
    "colab": {
      "provenance": [],
      "authorship_tag": "ABX9TyOEdS743xva6QYUyK636jBU",
      "include_colab_link": true
    },
    "kernelspec": {
      "name": "python3",
      "display_name": "Python 3"
    },
    "language_info": {
      "name": "python"
    }
  },
  "cells": [
    {
      "cell_type": "markdown",
      "metadata": {
        "id": "view-in-github",
        "colab_type": "text"
      },
      "source": [
        "<a href=\"https://colab.research.google.com/github/Bhumik1277/B_1277/blob/main/basicsofnumpy.ipynb\" target=\"_parent\"><img src=\"https://colab.research.google.com/assets/colab-badge.svg\" alt=\"Open In Colab\"/></a>"
      ]
    },
    {
      "cell_type": "code",
      "execution_count": 1,
      "metadata": {
        "id": "i9K0rPMz716D"
      },
      "outputs": [],
      "source": [
        "import numpy as np"
      ]
    },
    {
      "cell_type": "code",
      "source": [
        "arr_1d = np.array([1, 2, 3, 4, 5])\n",
        "arr_2d = np.array([[1, 2, 3],\n",
        "                   [4, 5, 6],\n",
        "                   [7, 8, 9]])\n",
        "arr_3d = np.array([[[1, 2, 3],\n",
        "                    [4, 5, 6]],\n",
        "                   [[7, 8, 9],\n",
        "                    [10, 11, 12]]])"
      ],
      "metadata": {
        "id": "Nk0ihoGT8lUx"
      },
      "execution_count": 2,
      "outputs": []
    },
    {
      "cell_type": "code",
      "source": [
        "print(\"1D Array:\")\n",
        "print(\"Shape:\", arr_1d.shape)\n",
        "print(\"Size:\", arr_1d.size)\n",
        "print(\"Dimension:\", arr_1d.ndim)\n",
        "print(\"Length:\", len(arr_1d))\n",
        "print()"
      ],
      "metadata": {
        "colab": {
          "base_uri": "https://localhost:8080/"
        },
        "id": "nG4Egxut8sXm",
        "outputId": "0c7aaf64-20d0-48ed-942e-8c2d3839052d"
      },
      "execution_count": 3,
      "outputs": [
        {
          "output_type": "stream",
          "name": "stdout",
          "text": [
            "1D Array:\n",
            "Shape: (5,)\n",
            "Size: 5\n",
            "Dimension: 1\n",
            "Length: 5\n",
            "\n"
          ]
        }
      ]
    },
    {
      "cell_type": "code",
      "source": [
        "print(\"2D Array:\")\n",
        "print(\"Shape:\", arr_2d.shape)\n",
        "print(\"Size:\", arr_2d.size)\n",
        "print(\"Dimension:\", arr_2d.ndim)\n",
        "print(\"Length:\", len(arr_2d))\n",
        "print()"
      ],
      "metadata": {
        "colab": {
          "base_uri": "https://localhost:8080/"
        },
        "id": "3OXZce5d8wXO",
        "outputId": "fcc50cf7-ceab-43f8-a772-f99f81f3000b"
      },
      "execution_count": 4,
      "outputs": [
        {
          "output_type": "stream",
          "name": "stdout",
          "text": [
            "2D Array:\n",
            "Shape: (3, 3)\n",
            "Size: 9\n",
            "Dimension: 2\n",
            "Length: 3\n",
            "\n"
          ]
        }
      ]
    },
    {
      "cell_type": "code",
      "source": [
        "print(\"3D Array:\")\n",
        "print(\"Shape:\", arr_3d.shape)\n",
        "print(\"Size:\", arr_3d.size)\n",
        "print(\"Dimension:\", arr_3d.ndim)\n",
        "print(\"Length:\", len(arr_3d))\n",
        "print()"
      ],
      "metadata": {
        "colab": {
          "base_uri": "https://localhost:8080/"
        },
        "id": "y7Q_VcQ781Fd",
        "outputId": "9d637199-7eef-43c1-a08c-7fa4defed437"
      },
      "execution_count": 5,
      "outputs": [
        {
          "output_type": "stream",
          "name": "stdout",
          "text": [
            "3D Array:\n",
            "Shape: (2, 2, 3)\n",
            "Size: 12\n",
            "Dimension: 3\n",
            "Length: 2\n",
            "\n"
          ]
        }
      ]
    },
    {
      "cell_type": "code",
      "source": [
        "print(\"Examples of array creation functions:\")\n",
        "print(\"np.arange(5):\", np.arange(5))\n",
        "print(\"np.random.randint(1, 10, size=(2, 3)):\")\n",
        "print(np.random.randint(1, 10, size=(2, 3)))\n",
        "print(\"np.random.rand(2, 3):\")\n",
        "print(np.random.rand(2, 3))\n",
        "print(\"np.linspace(0, 10, 5):\", np.linspace(0, 10, 5))\n",
        "print(\"np.ones((2, 3)):\")\n",
        "print(np.ones((2, 3)))\n",
        "print(\"np.zeros((2, 3)):\")\n",
        "print(np.zeros((2, 3)))\n",
        "print(\"np.diag([1, 2, 3]):\")\n",
        "print(np.diag([1, 2, 3]))"
      ],
      "metadata": {
        "colab": {
          "base_uri": "https://localhost:8080/"
        },
        "id": "El3fF3GX81xG",
        "outputId": "4a5675c7-ccd0-4842-8598-ad7939af8b2b"
      },
      "execution_count": 6,
      "outputs": [
        {
          "output_type": "stream",
          "name": "stdout",
          "text": [
            "Examples of array creation functions:\n",
            "np.arange(5): [0 1 2 3 4]\n",
            "np.random.randint(1, 10, size=(2, 3)):\n",
            "[[8 2 9]\n",
            " [5 5 1]]\n",
            "np.random.rand(2, 3):\n",
            "[[0.09618998 0.1100229  0.56857262]\n",
            " [0.3737176  0.94080072 0.27423902]]\n",
            "np.linspace(0, 10, 5): [ 0.   2.5  5.   7.5 10. ]\n",
            "np.ones((2, 3)):\n",
            "[[1. 1. 1.]\n",
            " [1. 1. 1.]]\n",
            "np.zeros((2, 3)):\n",
            "[[0. 0. 0.]\n",
            " [0. 0. 0.]]\n",
            "np.diag([1, 2, 3]):\n",
            "[[1 0 0]\n",
            " [0 2 0]\n",
            " [0 0 3]]\n"
          ]
        }
      ]
    },
    {
      "cell_type": "code",
      "source": [
        "print(\"\\nExamples of aggregation functions:\")\n",
        "print(\"Sum of arr_2d:\", np.sum(arr_2d))\n",
        "print(\"Min of arr_1d:\", np.min(arr_1d))\n",
        "print(\"Max of arr_3d:\", np.max(arr_3d))\n",
        "print(\"Mean of arr_2d:\", np.mean(arr_2d))\n",
        ""
      ],
      "metadata": {
        "colab": {
          "base_uri": "https://localhost:8080/"
        },
        "id": "jtwWXDCc8_i1",
        "outputId": "690b31fd-9c74-42cf-8f27-7fe6ff4ea9fd"
      },
      "execution_count": 7,
      "outputs": [
        {
          "output_type": "stream",
          "name": "stdout",
          "text": [
            "\n",
            "Examples of aggregation functions:\n",
            "Sum of arr_2d: 45\n",
            "Min of arr_1d: 1\n",
            "Max of arr_3d: 12\n",
            "Mean of arr_2d: 5.0\n"
          ]
        }
      ]
    }
  ]
}