{
  "nbformat": 4,
  "nbformat_minor": 0,
  "metadata": {
    "colab": {
      "provenance": [],
      "authorship_tag": "ABX9TyNx0Db0cw8oFPFqrBGApBYv",
      "include_colab_link": true
    },
    "kernelspec": {
      "name": "python3",
      "display_name": "Python 3"
    },
    "language_info": {
      "name": "python"
    }
  },
  "cells": [
    {
      "cell_type": "markdown",
      "metadata": {
        "id": "view-in-github",
        "colab_type": "text"
      },
      "source": [
        "<a href=\"https://colab.research.google.com/github/Bhumik1277/B_1277/blob/main/DOUBLYLINKEDLISTPYTHON.ipynb\" target=\"_parent\"><img src=\"https://colab.research.google.com/assets/colab-badge.svg\" alt=\"Open In Colab\"/></a>"
      ]
    },
    {
      "cell_type": "code",
      "execution_count": 4,
      "metadata": {
        "colab": {
          "base_uri": "https://localhost:8080/"
        },
        "id": "MkRjnwbWvypI",
        "outputId": "723d309e-3569-4e3e-a2ad-24b393129801"
      },
      "outputs": [
        {
          "output_type": "stream",
          "name": "stdout",
          "text": [
            "10 <-> 20 <-> 30 <-> None\n",
            "5 <-> 10 <-> 20 <-> 30 <-> None\n",
            "5 <-> 10 <-> 30 <-> None\n"
          ]
        }
      ],
      "source": [
        "class Node:\n",
        "    def __init__(self, data):\n",
        "        self.data = data\n",
        "        self.next = None\n",
        "        self.prev = None\n",
        "\n",
        "class DoublyLinkedList:\n",
        "    def __init__(self):\n",
        "        self.head = None\n",
        "\n",
        "    def insert_at_begin(self, data):\n",
        "        new_node = Node(data)\n",
        "        if self.head is None:\n",
        "            self.head = new_node\n",
        "            return\n",
        "        new_node.next = self.head\n",
        "        self.head.prev = new_node\n",
        "        self.head = new_node\n",
        "\n",
        "    def insert_at_end(self, data):\n",
        "        new_node = Node(data)\n",
        "        if self.head is None:\n",
        "            self.head = new_node\n",
        "            return\n",
        "        temp = self.head\n",
        "        while temp.next:\n",
        "            temp = temp.next\n",
        "        temp.next = new_node\n",
        "        new_node.prev = temp\n",
        "\n",
        "    def delete_node(self, key):\n",
        "        temp = self.head\n",
        "\n",
        "        # If the node to be deleted is the head node\n",
        "        if temp and temp.data == key:\n",
        "            self.head = temp.next\n",
        "            if self.head:\n",
        "                self.head.prev = None\n",
        "            temp = None\n",
        "            return\n",
        "\n",
        "        # Search for the node to be deleted\n",
        "        while temp and temp.data != key:\n",
        "            temp = temp.next\n",
        "\n",
        "        if temp is None:  # If key wasn't found\n",
        "            return\n",
        "\n",
        "        # If the node is in the middle or end\n",
        "        if temp.next:\n",
        "            temp.next.prev = temp.prev\n",
        "        if temp.prev:\n",
        "            temp.prev.next = temp.next\n",
        "\n",
        "        temp = None  # Delete the node\n",
        "\n",
        "    def display(self):\n",
        "        temp = self.head\n",
        "        while temp:\n",
        "            print(temp.data, end=\" <-> \")\n",
        "            temp = temp.next\n",
        "        print(\"None\")\n",
        "\n",
        "# Testing the Doubly Linked List\n",
        "dll = DoublyLinkedList()\n",
        "dll.insert_at_end(10)\n",
        "dll.insert_at_end(20)\n",
        "dll.insert_at_end(30)\n",
        "dll.display()\n",
        "\n",
        "dll.insert_at_begin(5)\n",
        "dll.display()\n",
        "\n",
        "dll.delete_node(20)\n",
        "dll.display()\n"
      ]
    },
    {
      "cell_type": "code",
      "source": [],
      "metadata": {
        "id": "yBM_nFw-waoE"
      },
      "execution_count": null,
      "outputs": []
    }
  ]
}