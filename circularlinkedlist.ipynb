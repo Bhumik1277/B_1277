{
  "nbformat": 4,
  "nbformat_minor": 0,
  "metadata": {
    "colab": {
      "provenance": [],
      "authorship_tag": "ABX9TyNRkjrbgYNtkf5kKAvJcWuV",
      "include_colab_link": true
    },
    "kernelspec": {
      "name": "python3",
      "display_name": "Python 3"
    },
    "language_info": {
      "name": "python"
    }
  },
  "cells": [
    {
      "cell_type": "markdown",
      "metadata": {
        "id": "view-in-github",
        "colab_type": "text"
      },
      "source": [
        "<a href=\"https://colab.research.google.com/github/Bhumik1277/B_1277/blob/main/circularlinkedlist.ipynb\" target=\"_parent\"><img src=\"https://colab.research.google.com/assets/colab-badge.svg\" alt=\"Open In Colab\"/></a>"
      ]
    },
    {
      "cell_type": "code",
      "execution_count": 1,
      "metadata": {
        "colab": {
          "base_uri": "https://localhost:8080/"
        },
        "id": "1QDCqTQSuGvv",
        "outputId": "60b5ee46-1506-4f06-c811-4e2691eecaf7"
      },
      "outputs": [
        {
          "output_type": "stream",
          "name": "stdout",
          "text": [
            "0->1->2->3->4\n",
            "0->1->3->4\n"
          ]
        }
      ],
      "source": [
        "class Node:\n",
        "    def __init__(self, data):\n",
        "        self.data = data\n",
        "        self.next = None\n",
        "\n",
        "class CircularLinkedList:\n",
        "    def __init__(self):\n",
        "        self.head = None\n",
        "\n",
        "    def append(self, data):\n",
        "        new_node = Node(data)\n",
        "        if not self.head:\n",
        "            self.head = new_node\n",
        "            self.head.next = self.head\n",
        "        else:\n",
        "            temp = self.head\n",
        "            while temp.next != self.head:\n",
        "                temp = temp.next\n",
        "            temp.next = new_node\n",
        "            new_node.next = self.head\n",
        "\n",
        "    def prepend(self, data):\n",
        "        new_node = Node(data)\n",
        "        if not self.head:\n",
        "            self.head = new_node\n",
        "            self.head.next = self.head\n",
        "        else:\n",
        "            temp = self.head\n",
        "            while temp.next != self.head:\n",
        "                temp = temp.next\n",
        "            temp.next = new_node\n",
        "            new_node.next = self.head\n",
        "            self.head = new_node\n",
        "\n",
        "    def delete(self, key):\n",
        "        if not self.head:\n",
        "            return\n",
        "\n",
        "        temp = self.head\n",
        "        prev = None\n",
        "\n",
        "        if temp.data == key:\n",
        "            if temp.next == self.head:\n",
        "                self.head = None\n",
        "            else:\n",
        "                while temp.next != self.head:\n",
        "                    temp = temp.next\n",
        "                temp.next = self.head.next\n",
        "                self.head = self.head.next\n",
        "            return\n",
        "\n",
        "        while temp.next != self.head:\n",
        "            prev = temp\n",
        "            temp = temp.next\n",
        "            if temp.data == key:\n",
        "                prev.next = temp.next\n",
        "                return\n",
        "\n",
        "    def display(self):\n",
        "        if not self.head:\n",
        "            print(\"List is empty\")\n",
        "            return\n",
        "        nodes = []\n",
        "        temp = self.head\n",
        "        while True:\n",
        "            nodes.append(str(temp.data))\n",
        "            temp = temp.next\n",
        "            if temp == self.head:\n",
        "                break\n",
        "        print(\"->\".join(nodes))\n",
        "\n",
        "cll = CircularLinkedList()\n",
        "cll.append(1)\n",
        "cll.append(2)\n",
        "cll.append(3)\n",
        "cll.append(4)\n",
        "cll.prepend(0)\n",
        "cll.display()\n",
        "cll.delete(2)\n",
        "cll.display()\n"
      ]
    }
  ]
}