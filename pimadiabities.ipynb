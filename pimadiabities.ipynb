{
  "nbformat": 4,
  "nbformat_minor": 0,
  "metadata": {
    "colab": {
      "provenance": [],
      "authorship_tag": "ABX9TyOVUCM+bVzSwxae/t5Uba7W",
      "include_colab_link": true
    },
    "kernelspec": {
      "name": "python3",
      "display_name": "Python 3"
    },
    "language_info": {
      "name": "python"
    }
  },
  "cells": [
    {
      "cell_type": "markdown",
      "metadata": {
        "id": "view-in-github",
        "colab_type": "text"
      },
      "source": [
        "<a href=\"https://colab.research.google.com/github/Bhumik1277/B_1277/blob/main/pimadiabities.ipynb\" target=\"_parent\"><img src=\"https://colab.research.google.com/assets/colab-badge.svg\" alt=\"Open In Colab\"/></a>"
      ]
    },
    {
      "cell_type": "code",
      "execution_count": 2,
      "metadata": {
        "colab": {
          "base_uri": "https://localhost:8080/"
        },
        "id": "oNpcGAN8lQ1-",
        "outputId": "63249fc7-075a-47ae-b54e-f7d6c1ac4dbf"
      },
      "outputs": [
        {
          "output_type": "execute_result",
          "data": {
            "text/plain": [
              "(769, 9)"
            ]
          },
          "metadata": {},
          "execution_count": 2
        }
      ],
      "source": [
        "import pandas\n",
        "from sklearn import model_selection as ms\n",
        "from sklearn.ensemble import BaggingClassifier as bc\n",
        "from sklearn.tree import DecisionTreeClassifier as dtc\n",
        "url=\"/content/diabetes.csv\"\n",
        "names=['preg','plas','pres','skin','test','mass','pedi','age','class']\n",
        "df=pandas.read_csv(url,names=names)\n",
        "df.shape"
      ]
    },
    {
      "cell_type": "code",
      "source": [
        "array = df.values\n",
        "x = array[:, 0:8]\n",
        "y = array[:, 8]\n",
        "kfold = ms.KFold(n_splits=10,shuffle=True, random_state=7)\n",
        "cart = dtc()\n",
        "num_trees = 100\n",
        "model = bc( n_estimators=num_trees,random_state=7)\n",
        "results=ms.cross_val_score(model,x,y, cv=kfold)\n",
        "aa= sum(results/len(results))\n",
        "print(\"Average Accuracy is : \" , aa)"
      ],
      "metadata": {
        "colab": {
          "base_uri": "https://localhost:8080/"
        },
        "id": "7ENYhlTGnPKK",
        "outputId": "0974b8d3-0d06-486f-8707-cd9012a7f79d"
      },
      "execution_count": 6,
      "outputs": [
        {
          "output_type": "stream",
          "name": "stdout",
          "text": [
            "Average Accuracy is :  nan\n"
          ]
        },
        {
          "output_type": "stream",
          "name": "stderr",
          "text": [
            "/usr/local/lib/python3.10/dist-packages/sklearn/model_selection/_validation.py:1000: UserWarning: Scoring failed. The score on this train-test partition for these parameters will be set to nan. Details: \n",
            "Traceback (most recent call last):\n",
            "  File \"/usr/local/lib/python3.10/dist-packages/sklearn/metrics/_scorer.py\", line 143, in __call__\n",
            "    score = scorer(estimator, *args, **routed_params.get(name).score)\n",
            "  File \"/usr/local/lib/python3.10/dist-packages/sklearn/metrics/_scorer.py\", line 455, in __call__\n",
            "    return estimator.score(*args, **kwargs)\n",
            "  File \"/usr/local/lib/python3.10/dist-packages/sklearn/base.py\", line 764, in score\n",
            "    return accuracy_score(y, self.predict(X), sample_weight=sample_weight)\n",
            "  File \"/usr/local/lib/python3.10/dist-packages/sklearn/ensemble/_bagging.py\", line 913, in predict\n",
            "    predicted_probabilitiy = self.predict_proba(X)\n",
            "  File \"/usr/local/lib/python3.10/dist-packages/sklearn/ensemble/_bagging.py\", line 951, in predict_proba\n",
            "    all_proba = Parallel(\n",
            "  File \"/usr/local/lib/python3.10/dist-packages/sklearn/utils/parallel.py\", line 74, in __call__\n",
            "    return super().__call__(iterable_with_config)\n",
            "  File \"/usr/local/lib/python3.10/dist-packages/joblib/parallel.py\", line 1918, in __call__\n",
            "    return output if self.return_generator else list(output)\n",
            "  File \"/usr/local/lib/python3.10/dist-packages/joblib/parallel.py\", line 1847, in _get_sequential_output\n",
            "    res = func(*args, **kwargs)\n",
            "  File \"/usr/local/lib/python3.10/dist-packages/sklearn/utils/parallel.py\", line 136, in __call__\n",
            "    return self.function(*args, **kwargs)\n",
            "  File \"/usr/local/lib/python3.10/dist-packages/sklearn/ensemble/_bagging.py\", line 210, in _parallel_predict_proba\n",
            "    proba_estimator = estimator.predict_proba(X[:, features])\n",
            "  File \"/usr/local/lib/python3.10/dist-packages/sklearn/tree/_classes.py\", line 1042, in predict_proba\n",
            "    X = self._validate_X_predict(X, check_input)\n",
            "  File \"/usr/local/lib/python3.10/dist-packages/sklearn/tree/_classes.py\", line 489, in _validate_X_predict\n",
            "    X = self._validate_data(\n",
            "  File \"/usr/local/lib/python3.10/dist-packages/sklearn/base.py\", line 633, in _validate_data\n",
            "    out = check_array(X, input_name=\"X\", **check_params)\n",
            "  File \"/usr/local/lib/python3.10/dist-packages/sklearn/utils/validation.py\", line 1012, in check_array\n",
            "    array = _asarray_with_order(array, order=order, dtype=dtype, xp=xp)\n",
            "  File \"/usr/local/lib/python3.10/dist-packages/sklearn/utils/_array_api.py\", line 745, in _asarray_with_order\n",
            "    array = numpy.asarray(array, order=order, dtype=dtype)\n",
            "ValueError: could not convert string to float: 'Pregnancies'\n",
            "\n",
            "  warnings.warn(\n",
            "/usr/local/lib/python3.10/dist-packages/sklearn/model_selection/_validation.py:540: FitFailedWarning: \n",
            "9 fits failed out of a total of 10.\n",
            "The score on these train-test partitions for these parameters will be set to nan.\n",
            "If these failures are not expected, you can try to debug them by setting error_score='raise'.\n",
            "\n",
            "Below are more details about the failures:\n",
            "--------------------------------------------------------------------------------\n",
            "9 fits failed with the following error:\n",
            "Traceback (most recent call last):\n",
            "  File \"/usr/local/lib/python3.10/dist-packages/sklearn/model_selection/_validation.py\", line 888, in _fit_and_score\n",
            "    estimator.fit(X_train, y_train, **fit_params)\n",
            "  File \"/usr/local/lib/python3.10/dist-packages/sklearn/utils/validation.py\", line 66, in inner_f\n",
            "    return f(*args, **kwargs)\n",
            "  File \"/usr/local/lib/python3.10/dist-packages/sklearn/base.py\", line 1473, in wrapper\n",
            "    return fit_method(estimator, *args, **kwargs)\n",
            "  File \"/usr/local/lib/python3.10/dist-packages/sklearn/ensemble/_bagging.py\", line 402, in fit\n",
            "    return self._fit(X, y, max_samples=self.max_samples, **fit_params)\n",
            "  File \"/usr/local/lib/python3.10/dist-packages/sklearn/ensemble/_bagging.py\", line 545, in _fit\n",
            "    all_results = Parallel(\n",
            "  File \"/usr/local/lib/python3.10/dist-packages/sklearn/utils/parallel.py\", line 74, in __call__\n",
            "    return super().__call__(iterable_with_config)\n",
            "  File \"/usr/local/lib/python3.10/dist-packages/joblib/parallel.py\", line 1918, in __call__\n",
            "    return output if self.return_generator else list(output)\n",
            "  File \"/usr/local/lib/python3.10/dist-packages/joblib/parallel.py\", line 1847, in _get_sequential_output\n",
            "    res = func(*args, **kwargs)\n",
            "  File \"/usr/local/lib/python3.10/dist-packages/sklearn/utils/parallel.py\", line 136, in __call__\n",
            "    return self.function(*args, **kwargs)\n",
            "  File \"/usr/local/lib/python3.10/dist-packages/sklearn/ensemble/_bagging.py\", line 187, in _parallel_build_estimators\n",
            "    estimator_fit(X_, y, **fit_params_)\n",
            "  File \"/usr/local/lib/python3.10/dist-packages/sklearn/base.py\", line 1473, in wrapper\n",
            "    return fit_method(estimator, *args, **kwargs)\n",
            "  File \"/usr/local/lib/python3.10/dist-packages/sklearn/tree/_classes.py\", line 1009, in fit\n",
            "    super()._fit(\n",
            "  File \"/usr/local/lib/python3.10/dist-packages/sklearn/tree/_classes.py\", line 252, in _fit\n",
            "    X, y = self._validate_data(\n",
            "  File \"/usr/local/lib/python3.10/dist-packages/sklearn/base.py\", line 645, in _validate_data\n",
            "    X = check_array(X, input_name=\"X\", **check_X_params)\n",
            "  File \"/usr/local/lib/python3.10/dist-packages/sklearn/utils/validation.py\", line 1012, in check_array\n",
            "    array = _asarray_with_order(array, order=order, dtype=dtype, xp=xp)\n",
            "  File \"/usr/local/lib/python3.10/dist-packages/sklearn/utils/_array_api.py\", line 745, in _asarray_with_order\n",
            "    array = numpy.asarray(array, order=order, dtype=dtype)\n",
            "ValueError: could not convert string to float: 'Pregnancies'\n",
            "\n",
            "  warnings.warn(some_fits_failed_message, FitFailedWarning)\n"
          ]
        }
      ]
    },
    {
      "cell_type": "code",
      "source": [
        "import pandas\n",
        "from sklearn import model_selection as ms\n",
        "from sklearn.ensemble import AdaBoostClassifier as abc\n",
        "from sklearn.tree import DecisionTreeClassifier as dtc\n",
        "url=\"/content/diabetes.csv\"\n",
        "names=['preg','plas','pres','skin','test','mass','pedi','age','class']\n",
        "df=pandas.read_csv(url,names=names)\n",
        "df.shape"
      ],
      "metadata": {
        "colab": {
          "base_uri": "https://localhost:8080/"
        },
        "id": "W5S9upscnPUx",
        "outputId": "4f16213e-1ea1-4d1a-986c-a3abefa64064"
      },
      "execution_count": 5,
      "outputs": [
        {
          "output_type": "execute_result",
          "data": {
            "text/plain": [
              "(769, 9)"
            ]
          },
          "metadata": {},
          "execution_count": 5
        }
      ]
    },
    {
      "cell_type": "code",
      "source": [
        "array = df.values\n",
        "x = array[:, 0:8]\n",
        "y = array[:, 8]\n",
        "kfold = ms.KFold(n_splits=10,shuffle=True, random_state=7)\n",
        "num_trees = 100\n",
        "model = abc(n_estimators=num_trees, random_state=7)\n",
        "results=ms.cross_val_score(model,x,y, cv=kfold)\n",
        "aa= sum(results/len(results))\n",
        "print(\"Average Accuracy is : \" , aa)"
      ],
      "metadata": {
        "colab": {
          "base_uri": "https://localhost:8080/"
        },
        "id": "KLyufnEHnPaq",
        "outputId": "5587394f-e412-470a-dee9-ca7ae3452d99"
      },
      "execution_count": 7,
      "outputs": [
        {
          "output_type": "stream",
          "name": "stderr",
          "text": [
            "/usr/local/lib/python3.10/dist-packages/sklearn/ensemble/_weight_boosting.py:527: FutureWarning: The SAMME.R algorithm (the default) is deprecated and will be removed in 1.6. Use the SAMME algorithm to circumvent this warning.\n",
            "  warnings.warn(\n",
            "/usr/local/lib/python3.10/dist-packages/sklearn/ensemble/_weight_boosting.py:527: FutureWarning: The SAMME.R algorithm (the default) is deprecated and will be removed in 1.6. Use the SAMME algorithm to circumvent this warning.\n",
            "  warnings.warn(\n",
            "/usr/local/lib/python3.10/dist-packages/sklearn/ensemble/_weight_boosting.py:527: FutureWarning: The SAMME.R algorithm (the default) is deprecated and will be removed in 1.6. Use the SAMME algorithm to circumvent this warning.\n",
            "  warnings.warn(\n",
            "/usr/local/lib/python3.10/dist-packages/sklearn/ensemble/_weight_boosting.py:527: FutureWarning: The SAMME.R algorithm (the default) is deprecated and will be removed in 1.6. Use the SAMME algorithm to circumvent this warning.\n",
            "  warnings.warn(\n",
            "/usr/local/lib/python3.10/dist-packages/sklearn/ensemble/_weight_boosting.py:527: FutureWarning: The SAMME.R algorithm (the default) is deprecated and will be removed in 1.6. Use the SAMME algorithm to circumvent this warning.\n",
            "  warnings.warn(\n"
          ]
        },
        {
          "output_type": "stream",
          "name": "stdout",
          "text": [
            "Average Accuracy is :  nan\n"
          ]
        },
        {
          "output_type": "stream",
          "name": "stderr",
          "text": [
            "/usr/local/lib/python3.10/dist-packages/sklearn/model_selection/_validation.py:1000: UserWarning: Scoring failed. The score on this train-test partition for these parameters will be set to nan. Details: \n",
            "Traceback (most recent call last):\n",
            "  File \"/usr/local/lib/python3.10/dist-packages/sklearn/metrics/_scorer.py\", line 143, in __call__\n",
            "    score = scorer(estimator, *args, **routed_params.get(name).score)\n",
            "  File \"/usr/local/lib/python3.10/dist-packages/sklearn/metrics/_scorer.py\", line 455, in __call__\n",
            "    return estimator.score(*args, **kwargs)\n",
            "  File \"/usr/local/lib/python3.10/dist-packages/sklearn/base.py\", line 764, in score\n",
            "    return accuracy_score(y, self.predict(X), sample_weight=sample_weight)\n",
            "  File \"/usr/local/lib/python3.10/dist-packages/sklearn/ensemble/_weight_boosting.py\", line 727, in predict\n",
            "    pred = self.decision_function(X)\n",
            "  File \"/usr/local/lib/python3.10/dist-packages/sklearn/ensemble/_weight_boosting.py\", line 796, in decision_function\n",
            "    pred = sum(\n",
            "  File \"/usr/local/lib/python3.10/dist-packages/sklearn/ensemble/_weight_boosting.py\", line 797, in <genexpr>\n",
            "    _samme_proba(estimator, n_classes, X) for estimator in self.estimators_\n",
            "  File \"/usr/local/lib/python3.10/dist-packages/sklearn/ensemble/_weight_boosting.py\", line 326, in _samme_proba\n",
            "    proba = estimator.predict_proba(X)\n",
            "  File \"/usr/local/lib/python3.10/dist-packages/sklearn/tree/_classes.py\", line 1042, in predict_proba\n",
            "    X = self._validate_X_predict(X, check_input)\n",
            "  File \"/usr/local/lib/python3.10/dist-packages/sklearn/tree/_classes.py\", line 489, in _validate_X_predict\n",
            "    X = self._validate_data(\n",
            "  File \"/usr/local/lib/python3.10/dist-packages/sklearn/base.py\", line 633, in _validate_data\n",
            "    out = check_array(X, input_name=\"X\", **check_params)\n",
            "  File \"/usr/local/lib/python3.10/dist-packages/sklearn/utils/validation.py\", line 1012, in check_array\n",
            "    array = _asarray_with_order(array, order=order, dtype=dtype, xp=xp)\n",
            "  File \"/usr/local/lib/python3.10/dist-packages/sklearn/utils/_array_api.py\", line 745, in _asarray_with_order\n",
            "    array = numpy.asarray(array, order=order, dtype=dtype)\n",
            "ValueError: could not convert string to float: 'Pregnancies'\n",
            "\n",
            "  warnings.warn(\n",
            "/usr/local/lib/python3.10/dist-packages/sklearn/ensemble/_weight_boosting.py:527: FutureWarning: The SAMME.R algorithm (the default) is deprecated and will be removed in 1.6. Use the SAMME algorithm to circumvent this warning.\n",
            "  warnings.warn(\n",
            "/usr/local/lib/python3.10/dist-packages/sklearn/ensemble/_weight_boosting.py:527: FutureWarning: The SAMME.R algorithm (the default) is deprecated and will be removed in 1.6. Use the SAMME algorithm to circumvent this warning.\n",
            "  warnings.warn(\n",
            "/usr/local/lib/python3.10/dist-packages/sklearn/ensemble/_weight_boosting.py:527: FutureWarning: The SAMME.R algorithm (the default) is deprecated and will be removed in 1.6. Use the SAMME algorithm to circumvent this warning.\n",
            "  warnings.warn(\n",
            "/usr/local/lib/python3.10/dist-packages/sklearn/ensemble/_weight_boosting.py:527: FutureWarning: The SAMME.R algorithm (the default) is deprecated and will be removed in 1.6. Use the SAMME algorithm to circumvent this warning.\n",
            "  warnings.warn(\n",
            "/usr/local/lib/python3.10/dist-packages/sklearn/ensemble/_weight_boosting.py:527: FutureWarning: The SAMME.R algorithm (the default) is deprecated and will be removed in 1.6. Use the SAMME algorithm to circumvent this warning.\n",
            "  warnings.warn(\n",
            "/usr/local/lib/python3.10/dist-packages/sklearn/model_selection/_validation.py:540: FitFailedWarning: \n",
            "9 fits failed out of a total of 10.\n",
            "The score on these train-test partitions for these parameters will be set to nan.\n",
            "If these failures are not expected, you can try to debug them by setting error_score='raise'.\n",
            "\n",
            "Below are more details about the failures:\n",
            "--------------------------------------------------------------------------------\n",
            "9 fits failed with the following error:\n",
            "Traceback (most recent call last):\n",
            "  File \"/usr/local/lib/python3.10/dist-packages/sklearn/model_selection/_validation.py\", line 888, in _fit_and_score\n",
            "    estimator.fit(X_train, y_train, **fit_params)\n",
            "  File \"/usr/local/lib/python3.10/dist-packages/sklearn/base.py\", line 1473, in wrapper\n",
            "    return fit_method(estimator, *args, **kwargs)\n",
            "  File \"/usr/local/lib/python3.10/dist-packages/sklearn/ensemble/_weight_boosting.py\", line 169, in fit\n",
            "    sample_weight, estimator_weight, estimator_error = self._boost(\n",
            "  File \"/usr/local/lib/python3.10/dist-packages/sklearn/ensemble/_weight_boosting.py\", line 594, in _boost\n",
            "    return self._boost_real(iboost, X, y, sample_weight, random_state)\n",
            "  File \"/usr/local/lib/python3.10/dist-packages/sklearn/ensemble/_weight_boosting.py\", line 605, in _boost_real\n",
            "    estimator.fit(X, y, sample_weight=sample_weight)\n",
            "  File \"/usr/local/lib/python3.10/dist-packages/sklearn/base.py\", line 1473, in wrapper\n",
            "    return fit_method(estimator, *args, **kwargs)\n",
            "  File \"/usr/local/lib/python3.10/dist-packages/sklearn/tree/_classes.py\", line 1009, in fit\n",
            "    super()._fit(\n",
            "  File \"/usr/local/lib/python3.10/dist-packages/sklearn/tree/_classes.py\", line 252, in _fit\n",
            "    X, y = self._validate_data(\n",
            "  File \"/usr/local/lib/python3.10/dist-packages/sklearn/base.py\", line 645, in _validate_data\n",
            "    X = check_array(X, input_name=\"X\", **check_X_params)\n",
            "  File \"/usr/local/lib/python3.10/dist-packages/sklearn/utils/validation.py\", line 1012, in check_array\n",
            "    array = _asarray_with_order(array, order=order, dtype=dtype, xp=xp)\n",
            "  File \"/usr/local/lib/python3.10/dist-packages/sklearn/utils/_array_api.py\", line 745, in _asarray_with_order\n",
            "    array = numpy.asarray(array, order=order, dtype=dtype)\n",
            "ValueError: could not convert string to float: 'Pregnancies'\n",
            "\n",
            "  warnings.warn(some_fits_failed_message, FitFailedWarning)\n"
          ]
        }
      ]
    },
    {
      "cell_type": "code",
      "source": [
        "import pandas\n",
        "from sklearn import model_selection as ms\n",
        "from sklearn.ensemble import BaggingClassifier as bc\n",
        "from sklearn.neighbors import KNeighborsClassifier as knn\n",
        "url=\"/content/diabetes.csv\"\n",
        "names=['preg','plas','pres','skin','test','mass','pedi','age','class']\n",
        "df=pandas.read_csv(url,names=names)\n",
        "df.shape"
      ],
      "metadata": {
        "colab": {
          "base_uri": "https://localhost:8080/"
        },
        "id": "EeiGvTGsnPeC",
        "outputId": "3ba0f592-fdd2-4f33-a421-d9efb12cd482"
      },
      "execution_count": 9,
      "outputs": [
        {
          "output_type": "execute_result",
          "data": {
            "text/plain": [
              "(769, 9)"
            ]
          },
          "metadata": {},
          "execution_count": 9
        }
      ]
    },
    {
      "cell_type": "code",
      "source": [
        "\n",
        "array = df.values\n",
        "x = array[:, 0:8]\n",
        "y = array[:, 8]\n",
        "kfold = ms.KFold(n_splits=10,shuffle=True, random_state=7)\n",
        "\n",
        "num_learners = 100\n",
        "model = bc( n_estimators=num_learners, random_state=7)\n",
        "results=ms.cross_val_score(model,x,y, cv=kfold)\n",
        "aa= sum(results/len(results))\n",
        "print(\"Average Accuracy is : \" , aa)\n"
      ],
      "metadata": {
        "colab": {
          "base_uri": "https://localhost:8080/"
        },
        "id": "tVZ5vY8snPhC",
        "outputId": "64f238b7-0e5f-4231-d8de-a8e491e4781f"
      },
      "execution_count": 12,
      "outputs": [
        {
          "output_type": "stream",
          "name": "stdout",
          "text": [
            "Average Accuracy is :  nan\n"
          ]
        },
        {
          "output_type": "stream",
          "name": "stderr",
          "text": [
            "/usr/local/lib/python3.10/dist-packages/sklearn/model_selection/_validation.py:1000: UserWarning: Scoring failed. The score on this train-test partition for these parameters will be set to nan. Details: \n",
            "Traceback (most recent call last):\n",
            "  File \"/usr/local/lib/python3.10/dist-packages/sklearn/metrics/_scorer.py\", line 143, in __call__\n",
            "    score = scorer(estimator, *args, **routed_params.get(name).score)\n",
            "  File \"/usr/local/lib/python3.10/dist-packages/sklearn/metrics/_scorer.py\", line 455, in __call__\n",
            "    return estimator.score(*args, **kwargs)\n",
            "  File \"/usr/local/lib/python3.10/dist-packages/sklearn/base.py\", line 764, in score\n",
            "    return accuracy_score(y, self.predict(X), sample_weight=sample_weight)\n",
            "  File \"/usr/local/lib/python3.10/dist-packages/sklearn/ensemble/_bagging.py\", line 913, in predict\n",
            "    predicted_probabilitiy = self.predict_proba(X)\n",
            "  File \"/usr/local/lib/python3.10/dist-packages/sklearn/ensemble/_bagging.py\", line 951, in predict_proba\n",
            "    all_proba = Parallel(\n",
            "  File \"/usr/local/lib/python3.10/dist-packages/sklearn/utils/parallel.py\", line 74, in __call__\n",
            "    return super().__call__(iterable_with_config)\n",
            "  File \"/usr/local/lib/python3.10/dist-packages/joblib/parallel.py\", line 1918, in __call__\n",
            "    return output if self.return_generator else list(output)\n",
            "  File \"/usr/local/lib/python3.10/dist-packages/joblib/parallel.py\", line 1847, in _get_sequential_output\n",
            "    res = func(*args, **kwargs)\n",
            "  File \"/usr/local/lib/python3.10/dist-packages/sklearn/utils/parallel.py\", line 136, in __call__\n",
            "    return self.function(*args, **kwargs)\n",
            "  File \"/usr/local/lib/python3.10/dist-packages/sklearn/ensemble/_bagging.py\", line 210, in _parallel_predict_proba\n",
            "    proba_estimator = estimator.predict_proba(X[:, features])\n",
            "  File \"/usr/local/lib/python3.10/dist-packages/sklearn/tree/_classes.py\", line 1042, in predict_proba\n",
            "    X = self._validate_X_predict(X, check_input)\n",
            "  File \"/usr/local/lib/python3.10/dist-packages/sklearn/tree/_classes.py\", line 489, in _validate_X_predict\n",
            "    X = self._validate_data(\n",
            "  File \"/usr/local/lib/python3.10/dist-packages/sklearn/base.py\", line 633, in _validate_data\n",
            "    out = check_array(X, input_name=\"X\", **check_params)\n",
            "  File \"/usr/local/lib/python3.10/dist-packages/sklearn/utils/validation.py\", line 1012, in check_array\n",
            "    array = _asarray_with_order(array, order=order, dtype=dtype, xp=xp)\n",
            "  File \"/usr/local/lib/python3.10/dist-packages/sklearn/utils/_array_api.py\", line 745, in _asarray_with_order\n",
            "    array = numpy.asarray(array, order=order, dtype=dtype)\n",
            "ValueError: could not convert string to float: 'Pregnancies'\n",
            "\n",
            "  warnings.warn(\n",
            "/usr/local/lib/python3.10/dist-packages/sklearn/model_selection/_validation.py:540: FitFailedWarning: \n",
            "9 fits failed out of a total of 10.\n",
            "The score on these train-test partitions for these parameters will be set to nan.\n",
            "If these failures are not expected, you can try to debug them by setting error_score='raise'.\n",
            "\n",
            "Below are more details about the failures:\n",
            "--------------------------------------------------------------------------------\n",
            "9 fits failed with the following error:\n",
            "Traceback (most recent call last):\n",
            "  File \"/usr/local/lib/python3.10/dist-packages/sklearn/model_selection/_validation.py\", line 888, in _fit_and_score\n",
            "    estimator.fit(X_train, y_train, **fit_params)\n",
            "  File \"/usr/local/lib/python3.10/dist-packages/sklearn/utils/validation.py\", line 66, in inner_f\n",
            "    return f(*args, **kwargs)\n",
            "  File \"/usr/local/lib/python3.10/dist-packages/sklearn/base.py\", line 1473, in wrapper\n",
            "    return fit_method(estimator, *args, **kwargs)\n",
            "  File \"/usr/local/lib/python3.10/dist-packages/sklearn/ensemble/_bagging.py\", line 402, in fit\n",
            "    return self._fit(X, y, max_samples=self.max_samples, **fit_params)\n",
            "  File \"/usr/local/lib/python3.10/dist-packages/sklearn/ensemble/_bagging.py\", line 545, in _fit\n",
            "    all_results = Parallel(\n",
            "  File \"/usr/local/lib/python3.10/dist-packages/sklearn/utils/parallel.py\", line 74, in __call__\n",
            "    return super().__call__(iterable_with_config)\n",
            "  File \"/usr/local/lib/python3.10/dist-packages/joblib/parallel.py\", line 1918, in __call__\n",
            "    return output if self.return_generator else list(output)\n",
            "  File \"/usr/local/lib/python3.10/dist-packages/joblib/parallel.py\", line 1847, in _get_sequential_output\n",
            "    res = func(*args, **kwargs)\n",
            "  File \"/usr/local/lib/python3.10/dist-packages/sklearn/utils/parallel.py\", line 136, in __call__\n",
            "    return self.function(*args, **kwargs)\n",
            "  File \"/usr/local/lib/python3.10/dist-packages/sklearn/ensemble/_bagging.py\", line 187, in _parallel_build_estimators\n",
            "    estimator_fit(X_, y, **fit_params_)\n",
            "  File \"/usr/local/lib/python3.10/dist-packages/sklearn/base.py\", line 1473, in wrapper\n",
            "    return fit_method(estimator, *args, **kwargs)\n",
            "  File \"/usr/local/lib/python3.10/dist-packages/sklearn/tree/_classes.py\", line 1009, in fit\n",
            "    super()._fit(\n",
            "  File \"/usr/local/lib/python3.10/dist-packages/sklearn/tree/_classes.py\", line 252, in _fit\n",
            "    X, y = self._validate_data(\n",
            "  File \"/usr/local/lib/python3.10/dist-packages/sklearn/base.py\", line 645, in _validate_data\n",
            "    X = check_array(X, input_name=\"X\", **check_X_params)\n",
            "  File \"/usr/local/lib/python3.10/dist-packages/sklearn/utils/validation.py\", line 1012, in check_array\n",
            "    array = _asarray_with_order(array, order=order, dtype=dtype, xp=xp)\n",
            "  File \"/usr/local/lib/python3.10/dist-packages/sklearn/utils/_array_api.py\", line 745, in _asarray_with_order\n",
            "    array = numpy.asarray(array, order=order, dtype=dtype)\n",
            "ValueError: could not convert string to float: 'Pregnancies'\n",
            "\n",
            "  warnings.warn(some_fits_failed_message, FitFailedWarning)\n"
          ]
        }
      ]
    },
    {
      "cell_type": "code",
      "source": [],
      "metadata": {
        "id": "QFE8xL3Bo2OR"
      },
      "execution_count": null,
      "outputs": []
    }
  ]
}